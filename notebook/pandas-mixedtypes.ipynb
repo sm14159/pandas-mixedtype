{
 "nbformat": 4,
 "nbformat_minor": 2,
 "metadata": {
  "language_info": {
   "name": "python",
   "codemirror_mode": {
    "name": "ipython",
    "version": 3
   },
   "version": "3.6.4-final"
  },
  "orig_nbformat": 2,
  "file_extension": ".py",
  "mimetype": "text/x-python",
  "name": "python",
  "npconvert_exporter": "python",
  "pygments_lexer": "ipython3",
  "version": 3,
  "kernelspec": {
   "name": "python36464bit8f22110999944488be68876c8e4cf473",
   "display_name": "Python 3.6.4 64-bit"
  }
 },
 "cells": [
  {
   "cell_type": "markdown",
   "execution_count": null,
   "metadata": {},
   "outputs": [],
   "source": [
    "# Pandas Mixed Type Difficulties\n",
    "\n",
    "This notebook demonstrates some challenges that arise when you are doing a lot of data cleaning with pandas. Read through to learn what problems may occur and how to avoid them!"
   ]
  },
  {
   "cell_type": "markdown",
   "execution_count": null,
   "metadata": {},
   "outputs": [],
   "source": [
    "## How Mixed Types Occur and the Object data type "
   ]
  },
  {
   "cell_type": "code",
   "execution_count": 3,
   "metadata": {},
   "outputs": [],
   "source": [
    "import numpy as np\n",
    "import pandas as pd"
   ]
  },
  {
   "cell_type": "markdown",
   "execution_count": null,
   "metadata": {},
   "outputs": [],
   "source": [
    "Let's say that you have a couple of files, some sales data in one file and some census data in another file. You want to merge these two datasets on zip code."
   ]
  },
  {
   "cell_type": "code",
   "execution_count": 4,
   "metadata": {},
   "outputs": [],
   "source": [
    "sales_data = pd.read_csv(\"data/sales_data.csv\",\n",
    "                         header=0,\n",
    "                         parse_dates=[\"date\"])"
   ]
  },
  {
   "cell_type": "code",
   "execution_count": 5,
   "metadata": {},
   "outputs": [
    {
     "data": {
      "text/plain": "(594, 6)"
     },
     "execution_count": 5,
     "metadata": {},
     "output_type": "execute_result"
    }
   ],
   "source": [
    "sales_data.shape"
   ]
  },
  {
   "cell_type": "code",
   "execution_count": 6,
   "metadata": {},
   "outputs": [
    {
     "data": {
      "text/html": "<div>\n<style scoped>\n    .dataframe tbody tr th:only-of-type {\n        vertical-align: middle;\n    }\n\n    .dataframe tbody tr th {\n        vertical-align: top;\n    }\n\n    .dataframe thead th {\n        text-align: right;\n    }\n</style>\n<table border=\"1\" class=\"dataframe\">\n  <thead>\n    <tr style=\"text-align: right;\">\n      <th></th>\n      <th>date</th>\n      <th>units_sold</th>\n      <th>address_line</th>\n      <th>city</th>\n      <th>state</th>\n      <th>zip_code</th>\n    </tr>\n  </thead>\n  <tbody>\n    <tr>\n      <th>559</th>\n      <td>2018-06-18 17:14:37</td>\n      <td>0</td>\n      <td>615 E  89TH</td>\n      <td>CA</td>\n      <td>USA</td>\n      <td>90002-1635</td>\n    </tr>\n    <tr>\n      <th>347</th>\n      <td>2019-04-12 19:27:48</td>\n      <td>8</td>\n      <td>8800 WADSWORTH</td>\n      <td>CA</td>\n      <td>USA</td>\n      <td>NaN</td>\n    </tr>\n    <tr>\n      <th>396</th>\n      <td>2019-07-24 07:45:57</td>\n      <td>2</td>\n      <td>9914 S  BROADWAY</td>\n      <td>CA</td>\n      <td>USA</td>\n      <td>90003-4173</td>\n    </tr>\n  </tbody>\n</table>\n</div>",
      "text/plain": "                   date  units_sold      address_line city state    zip_code\n559 2018-06-18 17:14:37           0       615 E  89TH   CA   USA  90002-1635\n347 2019-04-12 19:27:48           8    8800 WADSWORTH   CA   USA         NaN\n396 2019-07-24 07:45:57           2  9914 S  BROADWAY   CA   USA  90003-4173"
     },
     "execution_count": 6,
     "metadata": {},
     "output_type": "execute_result"
    }
   ],
   "source": [
    "sales_data.sample(3, random_state=1)"
   ]
  },
  {
   "cell_type": "markdown",
   "execution_count": null,
   "metadata": {},
   "outputs": [],
   "source": [
    "Looks like there are some missing zip codes"
   ]
  },
  {
   "cell_type": "code",
   "execution_count": 7,
   "metadata": {},
   "outputs": [
    {
     "name": "stdout",
     "output_type": "stream",
     "text": "<class 'pandas.core.frame.DataFrame'>\nRangeIndex: 594 entries, 0 to 593\nData columns (total 6 columns):\ndate            594 non-null datetime64[ns]\nunits_sold      594 non-null int64\naddress_line    594 non-null object\ncity            594 non-null object\nstate           594 non-null object\nzip_code        521 non-null object\ndtypes: datetime64[ns](1), int64(1), object(4)\nmemory usage: 27.9+ KB\n"
    }
   ],
   "source": [
    "sales_data.info()"
   ]
  },
  {
   "cell_type": "code",
   "execution_count": 8,
   "metadata": {},
   "outputs": [],
   "source": [
    "census_data = pd.read_csv(\"us-population-by-zip-code/population_by_zip_2010.csv\",\n",
    "                          header=0)"
   ]
  },
  {
   "cell_type": "code",
   "execution_count": 9,
   "metadata": {},
   "outputs": [
    {
     "data": {
      "text/html": "<div>\n<style scoped>\n    .dataframe tbody tr th:only-of-type {\n        vertical-align: middle;\n    }\n\n    .dataframe tbody tr th {\n        vertical-align: top;\n    }\n\n    .dataframe thead th {\n        text-align: right;\n    }\n</style>\n<table border=\"1\" class=\"dataframe\">\n  <thead>\n    <tr style=\"text-align: right;\">\n      <th></th>\n      <th>population</th>\n      <th>minimum_age</th>\n      <th>maximum_age</th>\n      <th>gender</th>\n      <th>zipcode</th>\n      <th>geo_id</th>\n    </tr>\n  </thead>\n  <tbody>\n    <tr>\n      <th>0</th>\n      <td>50</td>\n      <td>30.0</td>\n      <td>34.0</td>\n      <td>female</td>\n      <td>61747</td>\n      <td>8600000US61747</td>\n    </tr>\n    <tr>\n      <th>1</th>\n      <td>5</td>\n      <td>85.0</td>\n      <td>NaN</td>\n      <td>male</td>\n      <td>64120</td>\n      <td>8600000US64120</td>\n    </tr>\n    <tr>\n      <th>2</th>\n      <td>1389</td>\n      <td>30.0</td>\n      <td>34.0</td>\n      <td>male</td>\n      <td>95117</td>\n      <td>8600000US95117</td>\n    </tr>\n  </tbody>\n</table>\n</div>",
      "text/plain": "   population  minimum_age  maximum_age  gender  zipcode          geo_id\n0          50         30.0         34.0  female    61747  8600000US61747\n1           5         85.0          NaN    male    64120  8600000US64120\n2        1389         30.0         34.0    male    95117  8600000US95117"
     },
     "execution_count": 9,
     "metadata": {},
     "output_type": "execute_result"
    }
   ],
   "source": [
    "census_data.head(3)"
   ]
  },
  {
   "cell_type": "code",
   "execution_count": 10,
   "metadata": {},
   "outputs": [],
   "source": [
    "population = census_data.groupby(\"zipcode\")[\"population\"].sum().reset_index()"
   ]
  },
  {
   "cell_type": "markdown",
   "execution_count": 9,
   "metadata": {},
   "outputs": [
    {
     "ename": "SyntaxError",
     "evalue": "invalid syntax (<ipython-input-9-f1c1fb7a1f8d>, line 1)",
     "output_type": "error",
     "traceback": [
      "\u001b[0;36m  File \u001b[0;32m\"<ipython-input-9-f1c1fb7a1f8d>\"\u001b[0;36m, line \u001b[0;32m1\u001b[0m\n\u001b[0;31m    The goal is\u001b[0m\n\u001b[0m           ^\u001b[0m\n\u001b[0;31mSyntaxError\u001b[0m\u001b[0;31m:\u001b[0m invalid syntax\n"
     ]
    }
   ],
   "source": [
    "We want to merge these two dataframe on zip-code, but the sales data has a 9 digit zip code and the census data has 5 digit zip codes. Let's fix this."
   ]
  },
  {
   "cell_type": "code",
   "execution_count": 11,
   "metadata": {},
   "outputs": [],
   "source": [
    "sales_data[\"zip_code\"] = sales_data[\"zip_code\"].str[:5]"
   ]
  },
  {
   "cell_type": "markdown",
   "execution_count": null,
   "metadata": {},
   "outputs": [],
   "source": [
    "Now let's also fix the missing zip codes. Let's just say we know that all the zip codes before 2018 were 90001 and all the missing zip codes after that were 90002."
   ]
  },
  {
   "cell_type": "code",
   "execution_count": 12,
   "metadata": {},
   "outputs": [],
   "source": [
    "sales_data.loc[sales_data[\"zip_code\"].isna() & (sales_data[\"date\"] < pd.to_datetime(\"2018-01-01\")), \"zip_code\"] = 90001\n",
    "sales_data.loc[sales_data[\"zip_code\"].isna() & (sales_data[\"date\"] >= pd.to_datetime(\"2018-01-01\")), \"zip_code\"] = 90002"
   ]
  },
  {
   "cell_type": "code",
   "execution_count": 13,
   "metadata": {},
   "outputs": [
    {
     "data": {
      "text/plain": "0"
     },
     "execution_count": 13,
     "metadata": {},
     "output_type": "execute_result"
    }
   ],
   "source": [
    "sales_data[\"zip_code\"].isna().sum()"
   ]
  },
  {
   "cell_type": "code",
   "execution_count": 14,
   "metadata": {},
   "outputs": [],
   "source": [
    "sales_and_population = pd.merge(sales_data, population, left_on=\"zip_code\", right_on=\"zipcode\", validate=\"m:1\")"
   ]
  },
  {
   "cell_type": "code",
   "execution_count": 15,
   "metadata": {},
   "outputs": [
    {
     "data": {
      "text/html": "<div>\n<style scoped>\n    .dataframe tbody tr th:only-of-type {\n        vertical-align: middle;\n    }\n\n    .dataframe tbody tr th {\n        vertical-align: top;\n    }\n\n    .dataframe thead th {\n        text-align: right;\n    }\n</style>\n<table border=\"1\" class=\"dataframe\">\n  <thead>\n    <tr style=\"text-align: right;\">\n      <th></th>\n      <th>date</th>\n      <th>units_sold</th>\n      <th>address_line</th>\n      <th>city</th>\n      <th>state</th>\n      <th>zip_code</th>\n      <th>zipcode</th>\n      <th>population</th>\n    </tr>\n  </thead>\n  <tbody>\n    <tr>\n      <th>0</th>\n      <td>2019-01-10 10:34:58</td>\n      <td>15</td>\n      <td>1411 E  61ST</td>\n      <td>CA</td>\n      <td>USA</td>\n      <td>90002</td>\n      <td>90002</td>\n      <td>153669</td>\n    </tr>\n    <tr>\n      <th>1</th>\n      <td>2018-01-03 01:58:35</td>\n      <td>17</td>\n      <td>200 W  91ST</td>\n      <td>CA</td>\n      <td>USA</td>\n      <td>90002</td>\n      <td>90002</td>\n      <td>153669</td>\n    </tr>\n    <tr>\n      <th>2</th>\n      <td>2019-05-09 18:20:39</td>\n      <td>-1</td>\n      <td>407 N  WILTON</td>\n      <td>CA</td>\n      <td>USA</td>\n      <td>90002</td>\n      <td>90002</td>\n      <td>153669</td>\n    </tr>\n    <tr>\n      <th>3</th>\n      <td>2018-04-20 07:57:47</td>\n      <td>18</td>\n      <td>7200 AVALON</td>\n      <td>CA</td>\n      <td>USA</td>\n      <td>90002</td>\n      <td>90002</td>\n      <td>153669</td>\n    </tr>\n    <tr>\n      <th>4</th>\n      <td>2018-07-03 22:56:37</td>\n      <td>8</td>\n      <td>501 N  ROSSMORE</td>\n      <td>CA</td>\n      <td>USA</td>\n      <td>90002</td>\n      <td>90002</td>\n      <td>153669</td>\n    </tr>\n  </tbody>\n</table>\n</div>",
      "text/plain": "                 date  units_sold     address_line city state zip_code  \\\n0 2019-01-10 10:34:58          15     1411 E  61ST   CA   USA    90002   \n1 2018-01-03 01:58:35          17      200 W  91ST   CA   USA    90002   \n2 2019-05-09 18:20:39          -1    407 N  WILTON   CA   USA    90002   \n3 2018-04-20 07:57:47          18      7200 AVALON   CA   USA    90002   \n4 2018-07-03 22:56:37           8  501 N  ROSSMORE   CA   USA    90002   \n\n   zipcode  population  \n0    90002      153669  \n1    90002      153669  \n2    90002      153669  \n3    90002      153669  \n4    90002      153669  "
     },
     "execution_count": 15,
     "metadata": {},
     "output_type": "execute_result"
    }
   ],
   "source": [
    "sales_and_population.head()"
   ]
  },
  {
   "cell_type": "markdown",
   "execution_count": null,
   "metadata": {},
   "outputs": [],
   "source": [
    "Seems okay, right?"
   ]
  },
  {
   "cell_type": "code",
   "execution_count": 16,
   "metadata": {},
   "outputs": [
    {
     "data": {
      "text/plain": "(73, 8)"
     },
     "execution_count": 16,
     "metadata": {},
     "output_type": "execute_result"
    }
   ],
   "source": [
    "sales_and_population.shape"
   ]
  },
  {
   "cell_type": "markdown",
   "execution_count": null,
   "metadata": {},
   "outputs": [],
   "source": [
    "Wait, that doesn't seem right. Why are we missing so many rows?!"
   ]
  },
  {
   "cell_type": "markdown",
   "execution_count": null,
   "metadata": {},
   "outputs": [],
   "source": [
    "Turns out it is because we had replaced the missing zip codes with an integer, which correctly joined to the integer type in the population dataframe. The remaining zip code data that is actually a string did not join at all with this data, and now we are missing it!\n",
    "\n"
   ]
  },
  {
   "cell_type": "code",
   "execution_count": 17,
   "metadata": {},
   "outputs": [
    {
     "data": {
      "text/plain": "date            datetime64[ns]\nunits_sold               int64\naddress_line            object\ncity                    object\nstate                   object\nzip_code                object\ndtype: object"
     },
     "execution_count": 17,
     "metadata": {},
     "output_type": "execute_result"
    }
   ],
   "source": [
    "sales_data.dtypes"
   ]
  },
  {
   "cell_type": "code",
   "execution_count": 18,
   "metadata": {},
   "outputs": [
    {
     "data": {
      "text/plain": "zipcode       int64\npopulation    int64\ndtype: object"
     },
     "execution_count": 18,
     "metadata": {},
     "output_type": "execute_result"
    }
   ],
   "source": [
    "population.dtypes"
   ]
  },
  {
   "cell_type": "code",
   "execution_count": 19,
   "metadata": {},
   "outputs": [
    {
     "name": "stdout",
     "output_type": "stream",
     "text": "{<class 'str'>, <class 'int'>}\n"
    }
   ],
   "source": [
    "print(set(sales_data['zip_code'].apply(lambda x: type(x))))"
   ]
  },
  {
   "cell_type": "markdown",
   "execution_count": null,
   "metadata": {},
   "outputs": [],
   "source": [
    "So the takeaway is the 'object' column can contain mixed types. Underlying it is a numpy Python object dtype, which is just pointers to Python objects. This is used for data like strings because numpy has a fixed storage allocation for strings, which is too limiting to be used for most data, so to allow for more variable memory in a numpy array, we must use the object dtype. But since floats and ints are also Python objects, it allows for this mixed typing. See more in References below.\n",
    "\n",
    "It will have to be an object (at least until Pandas 1.0) for all strings, but be wary when you are converting from strings to data that can also be interpreted in another format (like dates, ints, floats). "
   ]
  },
  {
   "cell_type": "markdown",
   "execution_count": null,
   "metadata": {},
   "outputs": [],
   "source": [
    "You need to also be careful when subsetting out data that has mixed types as shown below:"
   ]
  },
  {
   "cell_type": "code",
   "execution_count": 20,
   "metadata": {},
   "outputs": [
    {
     "name": "stdout",
     "output_type": "stream",
     "text": "129\n25\n"
    }
   ],
   "source": [
    "print(sales_data.loc[sales_data[\"zip_code\"] == '90001'].shape[0])\n",
    "print(sales_data.loc[sales_data[\"zip_code\"] == 90001].shape[0])"
   ]
  },
  {
   "cell_type": "markdown",
   "execution_count": null,
   "metadata": {},
   "outputs": [],
   "source": [
    "Now, if you case it to a string, then you're not going to have the same dtypes on the left and right dataframe's join column. So you'll receive a null intersection."
   ]
  },
  {
   "cell_type": "code",
   "execution_count": 21,
   "metadata": {},
   "outputs": [],
   "source": [
    "sales_data = sales_data.astype({\"zip_code\": str})"
   ]
  },
  {
   "cell_type": "code",
   "execution_count": 22,
   "metadata": {},
   "outputs": [],
   "source": [
    "sales_and_population = pd.merge(sales_data, population, left_on=\"zip_code\", right_on=\"zipcode\", validate=\"m:1\")"
   ]
  },
  {
   "cell_type": "code",
   "execution_count": 23,
   "metadata": {},
   "outputs": [
    {
     "data": {
      "text/plain": "0"
     },
     "execution_count": 23,
     "metadata": {},
     "output_type": "execute_result"
    }
   ],
   "source": [
    "len(sales_and_population)"
   ]
  },
  {
   "cell_type": "markdown",
   "execution_count": null,
   "metadata": {},
   "outputs": [],
   "source": [
    "We must make sure we use the same dtype."
   ]
  },
  {
   "cell_type": "code",
   "execution_count": 24,
   "metadata": {},
   "outputs": [
    {
     "name": "stdout",
     "output_type": "stream",
     "text": "594\n"
    }
   ],
   "source": [
    "sales_data = sales_data.astype({\"zip_code\": int})\n",
    "sales_and_population = pd.merge(sales_data, population, left_on=\"zip_code\", right_on=\"zipcode\", validate=\"m:1\")\n",
    "print(len(sales_and_population))"
   ]
  },
  {
   "cell_type": "markdown",
   "execution_count": null,
   "metadata": {},
   "outputs": [],
   "source": [
    "# Example of creating a mixed type"
   ]
  },
  {
   "cell_type": "code",
   "execution_count": 25,
   "metadata": {},
   "outputs": [],
   "source": [
    "df = pd.DataFrame({\"price\": [9.99, \"$9.99\"]})"
   ]
  },
  {
   "cell_type": "code",
   "execution_count": 26,
   "metadata": {},
   "outputs": [
    {
     "data": {
      "text/plain": "price    object\ndtype: object"
     },
     "execution_count": 26,
     "metadata": {},
     "output_type": "execute_result"
    }
   ],
   "source": [
    "df.dtypes"
   ]
  },
  {
   "cell_type": "code",
   "execution_count": 28,
   "metadata": {},
   "outputs": [
    {
     "data": {
      "text/plain": "[float, str]"
     },
     "execution_count": 28,
     "metadata": {},
     "output_type": "execute_result"
    }
   ],
   "source": [
    "list(map(type, df[\"price\"]))"
   ]
  },
  {
   "cell_type": "markdown",
   "execution_count": 8,
   "metadata": {},
   "outputs": [
    {
     "ename": "SyntaxError",
     "evalue": "invalid syntax (<ipython-input-8-9f30a37afc70>, line 2)",
     "output_type": "error",
     "traceback": [
      "\u001b[0;36m  File \u001b[0;32m\"<ipython-input-8-9f30a37afc70>\"\u001b[0;36m, line \u001b[0;32m2\u001b[0m\n\u001b[0;31m    - https://www.kaggle.com/census/us-population-by-zip-code\u001b[0m\n\u001b[0m             ^\u001b[0m\n\u001b[0;31mSyntaxError\u001b[0m\u001b[0;31m:\u001b[0m invalid syntax\n"
     ]
    }
   ],
   "source": [
    "# References\n",
    "- [Census data](https://www.kaggle.com/census/us-population-by-zip-code)\n",
    "- [Source of random addresses](https://ca.postcodebase.com/)\n",
    "- [Another example showing similar issue when working with currencies](https://pbpython.com/currency-cleanup.html)\n",
    "- [Explanation of NumPy data types](https://stackoverflow.com/questions/34881079/pandas-distinction-between-str-and-object-types)\n"
   ]
  },
  {
   "cell_type": "code",
   "execution_count": null,
   "metadata": {},
   "outputs": [],
   "source": []
  }
 ]
}